{
 "cells": [
  {
   "cell_type": "markdown",
   "metadata": {},
   "source": [
    "<!-- @format -->\n",
    "\n",
    "## DETECTION OF COVID-19 OR PNEMONIA USING X-RAY IMAGES\n",
    "\n",
    "### Include your name and ID here:\n",
    "\n",
    "    1. Victor Umesiobi (Q2094874)\n",
    "    2. Jingqi Yuan (P1179164)\n",
    "    3. Jieyun Zhang (P1180504)\n",
    "    4. Ruchen Liu (P1180236)\n",
    "    5.\n",
    "\n",
    "### Problem Statement\n",
    "\n",
    "`In 2020, covid hit the world, and we have x-ray images of the chest region and we want to be able to easily detect covid and its difference from pnemonia`\n",
    "\n",
    "### Dataset\n",
    "\n",
    "`https://www.kaggle.com/datasets/amanullahasraf/covid19-pneumonia-normal-chest-xray-pa-dataset/data`\n",
    "\n",
    "### Decision\n",
    "\n",
    "1.  What kind of model do we use to train and why\n",
    "2.  Cleaning and preparation of data\n",
    "3.  Differences and relationships between data (showing graphs)\n",
    "4.  Training of data\n",
    "5.  Inference (show graphs and accuracy)\n",
    "6.  Pratical use (create an endpoint and basic html that uses our model)\n"
   ]
  }
 ],
 "metadata": {
  "kernelspec": {
   "display_name": "base",
   "language": "python",
   "name": "python3"
  },
  "language_info": {
   "codemirror_mode": {
    "name": "ipython",
    "version": 3
   },
   "file_extension": ".py",
   "mimetype": "text/x-python",
   "name": "python",
   "nbconvert_exporter": "python",
   "pygments_lexer": "ipython3",
   "version": "3.11.5"
  }
 },
 "nbformat": 4,
 "nbformat_minor": 2
}
